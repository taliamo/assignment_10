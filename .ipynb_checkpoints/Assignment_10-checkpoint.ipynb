{
 "cells": [
  {
   "cell_type": "markdown",
   "metadata": {},
   "source": [
    "## T. Martz-Oberlander, 2015-11-13 \n",
    "## Test-driven development (TDD) for checking if data is properly aligned in columns\n",
    "\n",
    "I had problems with my pitch data lining up (some rows got shifted into different columns). \n",
    "So, I want to know— is my data lined up? I can find that out by asking more specifically: are the data in column 'n' floats or integers? I assert that they are, otherwise say “data is an object\""
   ]
  },
  {
   "cell_type": "code",
   "execution_count": 118,
   "metadata": {
    "collapsed": false
   },
   "outputs": [
    {
     "data": {
      "text/html": [
       "<div>\n",
       "<table border=\"1\" class=\"dataframe\">\n",
       "  <thead>\n",
       "    <tr style=\"text-align: right;\">\n",
       "      <th></th>\n",
       "      <th>time</th>\n",
       "      <th>div</th>\n",
       "      <th>note</th>\n",
       "      <th>freq</th>\n",
       "      <th>Unnamed: 4</th>\n",
       "      <th>Unnamed: 5</th>\n",
       "      <th>Unnamed: 6</th>\n",
       "      <th>Unnamed: 7</th>\n",
       "      <th>Unnamed: 8</th>\n",
       "      <th>Unnamed: 9</th>\n",
       "      <th>Unnamed: 10</th>\n",
       "      <th>Unnamed: 11</th>\n",
       "    </tr>\n",
       "  </thead>\n",
       "  <tbody>\n",
       "    <tr>\n",
       "      <th>0</th>\n",
       "      <td>2010-04-13 8:37</td>\n",
       "      <td>pedal</td>\n",
       "      <td>c3</td>\n",
       "      <td>131.17</td>\n",
       "      <td>131.20</td>\n",
       "      <td>131.18</td>\n",
       "      <td>131.11</td>\n",
       "      <td>131.17</td>\n",
       "      <td>131.14</td>\n",
       "      <td>131.21</td>\n",
       "      <td>NaN</td>\n",
       "      <td>NaN</td>\n",
       "    </tr>\n",
       "    <tr>\n",
       "      <th>1</th>\n",
       "      <td>2010-04-13 8:37</td>\n",
       "      <td>pedal</td>\n",
       "      <td>c4</td>\n",
       "      <td>262.08</td>\n",
       "      <td>262.12</td>\n",
       "      <td>262.09</td>\n",
       "      <td>262.05</td>\n",
       "      <td>262.07</td>\n",
       "      <td>262.10</td>\n",
       "      <td>262.08</td>\n",
       "      <td>NaN</td>\n",
       "      <td>NaN</td>\n",
       "    </tr>\n",
       "    <tr>\n",
       "      <th>...</th>\n",
       "      <td>...</td>\n",
       "      <td>...</td>\n",
       "      <td>...</td>\n",
       "      <td>...</td>\n",
       "      <td>...</td>\n",
       "      <td>...</td>\n",
       "      <td>...</td>\n",
       "      <td>...</td>\n",
       "      <td>...</td>\n",
       "      <td>...</td>\n",
       "      <td>...</td>\n",
       "      <td>...</td>\n",
       "    </tr>\n",
       "    <tr>\n",
       "      <th>55</th>\n",
       "      <td>2010-04-17 10:35</td>\n",
       "      <td>pedal</td>\n",
       "      <td>c4</td>\n",
       "      <td>NaN</td>\n",
       "      <td>261.95</td>\n",
       "      <td>261.95</td>\n",
       "      <td>262.02</td>\n",
       "      <td>262.00</td>\n",
       "      <td>261.97</td>\n",
       "      <td>262.01</td>\n",
       "      <td>261.95</td>\n",
       "      <td>261.97</td>\n",
       "    </tr>\n",
       "    <tr>\n",
       "      <th>56</th>\n",
       "      <td>2010-04-17 10:37</td>\n",
       "      <td>great</td>\n",
       "      <td>c4</td>\n",
       "      <td>NaN</td>\n",
       "      <td>261.69</td>\n",
       "      <td>261.69</td>\n",
       "      <td>261.68</td>\n",
       "      <td>261.71</td>\n",
       "      <td>261.74</td>\n",
       "      <td>261.66</td>\n",
       "      <td>261.68</td>\n",
       "      <td>261.69</td>\n",
       "    </tr>\n",
       "  </tbody>\n",
       "</table>\n",
       "<p>57 rows × 12 columns</p>\n",
       "</div>"
      ],
      "text/plain": [
       "                time    div note    freq  Unnamed: 4  Unnamed: 5  Unnamed: 6  \\\n",
       "0    2010-04-13 8:37  pedal   c3  131.17      131.20      131.18      131.11   \n",
       "1    2010-04-13 8:37  pedal   c4  262.08      262.12      262.09      262.05   \n",
       "..               ...    ...  ...     ...         ...         ...         ...   \n",
       "55  2010-04-17 10:35  pedal   c4     NaN      261.95      261.95      262.02   \n",
       "56  2010-04-17 10:37  great   c4     NaN      261.69      261.69      261.68   \n",
       "\n",
       "    Unnamed: 7  Unnamed: 8  Unnamed: 9  Unnamed: 10  Unnamed: 11  \n",
       "0       131.17      131.14      131.21          NaN          NaN  \n",
       "1       262.07      262.10      262.08          NaN          NaN  \n",
       "..         ...         ...         ...          ...          ...  \n",
       "55      262.00      261.97      262.01       261.95       261.97  \n",
       "56      261.71      261.74      261.66       261.68       261.69  \n",
       "\n",
       "[57 rows x 12 columns]"
      ]
     },
     "execution_count": 118,
     "metadata": {},
     "output_type": "execute_result"
    }
   ],
   "source": [
    "#I call in necessary libraries\n",
    "import pandas as pd\n",
    "import matplotlib.pyplot as plt\n",
    "import re\n",
    "import numpy as np\n",
    "\n",
    "%matplotlib inline\n",
    "from pandas import set_option\n",
    "\n",
    "#I want to be able to easily scroll through this notebook so I limit the length of the appearance of my dataframes \n",
    "set_option('display.max_rows', 5)\n",
    "\n",
    "#First, I'll import my pitch data and define a variable name for it \n",
    "pitches = pd.read_csv('pitches.csv', sep=',')\n",
    "\n",
    "#display pitches\n",
    "pitches"
   ]
  },
  {
   "cell_type": "code",
   "execution_count": 119,
   "metadata": {
    "collapsed": false
   },
   "outputs": [
    {
     "name": "stdout",
     "output_type": "stream",
     "text": [
      "time           datetime64[ns]\n",
      "div                    object\n",
      "                    ...      \n",
      "Unnamed: 10           float64\n",
      "Unnamed: 11           float64\n",
      "dtype: object\n"
     ]
    }
   ],
   "source": [
    "#Changing column labelling:\n",
    "\n",
    "#Make Date Time column\n",
    "pitches['time']= pd.to_datetime(pitches['time'])\n",
    "\n",
    "#I check the type of data in the dataframe columns\n",
    "print(pitches.dtypes)\n"
   ]
  },
  {
   "cell_type": "markdown",
   "metadata": {},
   "source": [
    "All columns appear to be in order; however, if I was importing a larger file I may not know this. So I write a test function to see if column[3]--the first frequency column with float values in it-- really is filled with floats. This will tell me if I can proceed to perform math on the values in the dataframe.\n"
   ]
  },
  {
   "cell_type": "code",
   "execution_count": 142,
   "metadata": {
    "collapsed": false
   },
   "outputs": [
    {
     "data": {
      "text/plain": [
       "dtype('float64')"
      ]
     },
     "execution_count": 142,
     "metadata": {},
     "output_type": "execute_result"
    }
   ],
   "source": [
    "#I define a variable for one column\n",
    "freq = pitches.iloc[:,3]\n",
    "\n",
    "#I check the data type of the freq variable\n",
    "freq.dtype\n",
    "\n",
    "#I know this column should pass my test, because it is made of floats"
   ]
  },
  {
   "cell_type": "code",
   "execution_count": null,
   "metadata": {
    "collapsed": false
   },
   "outputs": [],
   "source": []
  },
  {
   "cell_type": "code",
   "execution_count": 143,
   "metadata": {
    "collapsed": false
   },
   "outputs": [],
   "source": [
    "#TEST FUNCTION\n",
    "# I pass the freq column data through the test function\n",
    "\n",
    "def test_data_type(freq):\n",
    "    '''Check to see if a column contains only floats'''\n",
    "    obs = data_type(freq) #I pass the dtype checking function through my test function\n",
    "    #print(obs)\n",
    "    exp = 'float64'\n",
    "    assert obs == 'float64' , 'Data is not a float'\n",
    "    \n",
    "test_data_type(freq)"
   ]
  },
  {
   "cell_type": "code",
   "execution_count": 133,
   "metadata": {
    "collapsed": false
   },
   "outputs": [
    {
     "name": "stdout",
     "output_type": "stream",
     "text": [
      "Data type is: 0     131.17\n",
      "1     262.08\n",
      "       ...  \n",
      "55       NaN\n",
      "56       NaN\n",
      "Name: freq, dtype: float64\n"
     ]
    }
   ],
   "source": [
    "#return data type function\n",
    "\n",
    "def data_type(freq):\n",
    "    '''Display data type of a column'''\n",
    "    freq_type = freq.dtype\n",
    "    return freq_type\n",
    "\n",
    "print('Data type is:', freq)\n",
    "    "
   ]
  },
  {
   "cell_type": "markdown",
   "metadata": {
    "collapsed": true
   },
   "source": [
    "## Test my test function with a known non-float column"
   ]
  },
  {
   "cell_type": "code",
   "execution_count": 161,
   "metadata": {
    "collapsed": false
   },
   "outputs": [
    {
     "name": "stdout",
     "output_type": "stream",
     "text": [
      "0     pedal\n",
      "1     pedal\n",
      "      ...  \n",
      "55    pedal\n",
      "56    great\n",
      "Name: div, dtype: object\n"
     ]
    },
    {
     "data": {
      "text/plain": [
       "dtype('O')"
      ]
     },
     "execution_count": 161,
     "metadata": {},
     "output_type": "execute_result"
    }
   ],
   "source": [
    "#test function for a non-float column\n",
    "\n",
    "\n",
    "#I define the variable div, for the 2nd column\n",
    "div = pitches.iloc[:,1]\n",
    "print(div)\n",
    "#I can see div is made of words, not floats so it should fail my test\n",
    "\n",
    "#My function should tell me \"O\" for object\n",
    "div.dtype "
   ]
  },
  {
   "cell_type": "code",
   "execution_count": 162,
   "metadata": {
    "collapsed": false
   },
   "outputs": [
    {
     "name": "stdout",
     "output_type": "stream",
     "text": [
      "object\n"
     ]
    },
    {
     "ename": "AssertionError",
     "evalue": "Data is not a float",
     "output_type": "error",
     "traceback": [
      "\u001b[0;31m---------------------------------------------------------------------------\u001b[0m",
      "\u001b[0;31mAssertionError\u001b[0m                            Traceback (most recent call last)",
      "\u001b[0;32m<ipython-input-162-b9702d0edf73>\u001b[0m in \u001b[0;36m<module>\u001b[0;34m()\u001b[0m\n\u001b[1;32m      6\u001b[0m     \u001b[0;32massert\u001b[0m \u001b[0mobs2\u001b[0m \u001b[0;34m==\u001b[0m \u001b[0;34m'float64'\u001b[0m \u001b[0;34m,\u001b[0m \u001b[0;34m'Data is not a float'\u001b[0m\u001b[0;34m\u001b[0m\u001b[0m\n\u001b[1;32m      7\u001b[0m \u001b[0;34m\u001b[0m\u001b[0m\n\u001b[0;32m----> 8\u001b[0;31m \u001b[0mtest_data_type\u001b[0m\u001b[0;34m(\u001b[0m\u001b[0mdiv\u001b[0m\u001b[0;34m)\u001b[0m\u001b[0;34m\u001b[0m\u001b[0m\n\u001b[0m",
      "\u001b[0;32m<ipython-input-162-b9702d0edf73>\u001b[0m in \u001b[0;36mtest_data_type\u001b[0;34m(div)\u001b[0m\n\u001b[1;32m      4\u001b[0m     \u001b[0mprint\u001b[0m\u001b[0;34m(\u001b[0m\u001b[0mobs2\u001b[0m\u001b[0;34m)\u001b[0m\u001b[0;34m\u001b[0m\u001b[0m\n\u001b[1;32m      5\u001b[0m     \u001b[0mexp\u001b[0m \u001b[0;34m=\u001b[0m \u001b[0;34m'float64'\u001b[0m\u001b[0;34m\u001b[0m\u001b[0m\n\u001b[0;32m----> 6\u001b[0;31m     \u001b[0;32massert\u001b[0m \u001b[0mobs2\u001b[0m \u001b[0;34m==\u001b[0m \u001b[0;34m'float64'\u001b[0m \u001b[0;34m,\u001b[0m \u001b[0;34m'Data is not a float'\u001b[0m\u001b[0;34m\u001b[0m\u001b[0m\n\u001b[0m\u001b[1;32m      7\u001b[0m \u001b[0;34m\u001b[0m\u001b[0m\n\u001b[1;32m      8\u001b[0m \u001b[0mtest_data_type\u001b[0m\u001b[0;34m(\u001b[0m\u001b[0mdiv\u001b[0m\u001b[0;34m)\u001b[0m\u001b[0;34m\u001b[0m\u001b[0m\n",
      "\u001b[0;31mAssertionError\u001b[0m: Data is not a float"
     ]
    }
   ],
   "source": [
    "#I run the test\n",
    "def test_data_type(div):\n",
    "    '''Check to see if a column contains only floats'''\n",
    "    obs2 = data_type2(div)\n",
    "    print(obs2)\n",
    "    exp = 'float64'\n",
    "    assert obs2 == 'float64' , 'Data is not a float'\n",
    "    \n",
    "test_data_type(div)"
   ]
  },
  {
   "cell_type": "markdown",
   "metadata": {},
   "source": [
    "\n",
    "Because my test works when I pass through a 'float64' column, and doesn't work (outputs my assert statement) when I pass an 'object' column through, I know that my test function and main funciton work. Now I can test whether my dataframe columns are usable for computational analysis."
   ]
  },
  {
   "cell_type": "code",
   "execution_count": null,
   "metadata": {
    "collapsed": false
   },
   "outputs": [],
   "source": []
  }
 ],
 "metadata": {
  "kernelspec": {
   "display_name": "Python 3",
   "language": "python",
   "name": "python3"
  },
  "language_info": {
   "codemirror_mode": {
    "name": "ipython",
    "version": 3
   },
   "file_extension": ".py",
   "mimetype": "text/x-python",
   "name": "python",
   "nbconvert_exporter": "python",
   "pygments_lexer": "ipython3",
   "version": "3.4.3"
  }
 },
 "nbformat": 4,
 "nbformat_minor": 0
}
